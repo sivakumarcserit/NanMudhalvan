{
  "nbformat": 4,
  "nbformat_minor": 0,
  "metadata": {
    "colab": {
      "provenance": []
    },
    "kernelspec": {
      "name": "python3",
      "display_name": "Python 3"
    },
    "language_info": {
      "name": "python"
    }
  },
  "cells": [
    {
      "cell_type": "code",
      "execution_count": null,
      "metadata": {
        "id": "aRFgV7Gm8Y5S"
      },
      "outputs": [],
      "source": [
        "import numpy as np\n",
        "import pandas as pd\n",
        "import seaborn as sns\n",
        "import matplotlib.pyplot as plt\n",
        "import warnings\n",
        "warnings.filterwarnings('ignore')\n",
        "from sklearn.model_selection import train_test_split\n",
        "from sklearn.linear_model import LogisticRegression\n",
        "from sklearn.metrics import confusion_matrix\n",
        "from sklearn.metrics import accuracy_score\n",
        "from sklearn.metrics import classification_report\n",
        "from sklearn.ensemble import RandomForestClassifier\n",
        "import xgboost as xgb\n",
        "import pickle"
      ]
    },
    {
      "cell_type": "code",
      "source": [
        "df=pd.read_csv('audit_data.csv')"
      ],
      "metadata": {
        "id": "dX4sb6MBADQT"
      },
      "execution_count": null,
      "outputs": []
    },
    {
      "cell_type": "code",
      "source": [
        "df.info()"
      ],
      "metadata": {
        "colab": {
          "base_uri": "https://localhost:8080/"
        },
        "id": "aNE4YFzBApg6",
        "outputId": "83805968-53be-40c4-9d64-e64683fc7f06"
      },
      "execution_count": null,
      "outputs": [
        {
          "output_type": "stream",
          "name": "stdout",
          "text": [
            "<class 'pandas.core.frame.DataFrame'>\n",
            "RangeIndex: 776 entries, 0 to 775\n",
            "Data columns (total 27 columns):\n",
            " #   Column          Non-Null Count  Dtype  \n",
            "---  ------          --------------  -----  \n",
            " 0   Sector_score    776 non-null    float64\n",
            " 1   LOCATION_ID     776 non-null    object \n",
            " 2   PARA_A          776 non-null    float64\n",
            " 3   Score_A         776 non-null    float64\n",
            " 4   Risk_A          776 non-null    float64\n",
            " 5   PARA_B          776 non-null    float64\n",
            " 6   Score_B         776 non-null    float64\n",
            " 7   Risk_B          776 non-null    float64\n",
            " 8   TOTAL           776 non-null    float64\n",
            " 9   numbers         776 non-null    float64\n",
            " 10  Score_B.1       776 non-null    float64\n",
            " 11  Risk_C          776 non-null    float64\n",
            " 12  Money_Value     775 non-null    float64\n",
            " 13  Score_MV        776 non-null    float64\n",
            " 14  Risk_D          776 non-null    float64\n",
            " 15  District_Loss   776 non-null    int64  \n",
            " 16  PROB            776 non-null    float64\n",
            " 17  RiSk_E          776 non-null    float64\n",
            " 18  History         776 non-null    int64  \n",
            " 19  Prob            776 non-null    float64\n",
            " 20  Risk_F          776 non-null    float64\n",
            " 21  Score           776 non-null    float64\n",
            " 22  Inherent_Risk   776 non-null    float64\n",
            " 23  CONTROL_RISK    776 non-null    float64\n",
            " 24  Detection_Risk  776 non-null    float64\n",
            " 25  Audit_Risk      776 non-null    float64\n",
            " 26  Risk            776 non-null    int64  \n",
            "dtypes: float64(23), int64(3), object(1)\n",
            "memory usage: 163.8+ KB\n"
          ]
        }
      ]
    },
    {
      "cell_type": "code",
      "source": [
        "df.isnull().sum()"
      ],
      "metadata": {
        "colab": {
          "base_uri": "https://localhost:8080/"
        },
        "id": "b6taL3u0Au6L",
        "outputId": "d710128c-13e8-49dd-8329-ccff9c2fe9d7"
      },
      "execution_count": null,
      "outputs": [
        {
          "output_type": "execute_result",
          "data": {
            "text/plain": [
              "Sector_score      0\n",
              "LOCATION_ID       0\n",
              "PARA_A            0\n",
              "Score_A           0\n",
              "Risk_A            0\n",
              "PARA_B            0\n",
              "Score_B           0\n",
              "Risk_B            0\n",
              "TOTAL             0\n",
              "numbers           0\n",
              "Score_B.1         0\n",
              "Risk_C            0\n",
              "Money_Value       1\n",
              "Score_MV          0\n",
              "Risk_D            0\n",
              "District_Loss     0\n",
              "PROB              0\n",
              "RiSk_E            0\n",
              "History           0\n",
              "Prob              0\n",
              "Risk_F            0\n",
              "Score             0\n",
              "Inherent_Risk     0\n",
              "CONTROL_RISK      0\n",
              "Detection_Risk    0\n",
              "Audit_Risk        0\n",
              "Risk              0\n",
              "dtype: int64"
            ]
          },
          "metadata": {},
          "execution_count": 6
        }
      ]
    },
    {
      "cell_type": "code",
      "source": [
        "for i in df.columns:\n",
        "  df[[i]].boxplot()\n",
        "  plt.show()"
      ],
      "metadata": {
        "id": "mtb7Jd_MBkYX"
      },
      "execution_count": null,
      "outputs": []
    },
    {
      "cell_type": "code",
      "source": [
        "df.describe()"
      ],
      "metadata": {
        "colab": {
          "base_uri": "https://localhost:8080/",
          "height": 393
        },
        "id": "KAjVWGHwBlQ6",
        "outputId": "e17ea006-7ed7-4b89-cbba-af9902ca02e5"
      },
      "execution_count": null,
      "outputs": [
        {
          "output_type": "execute_result",
          "data": {
            "text/plain": [
              "       Sector_score      PARA_A     Score_A      Risk_A       PARA_B  \\\n",
              "count    776.000000  776.000000  776.000000  776.000000   776.000000   \n",
              "mean      20.184536    2.450194    0.351289    1.351029    10.799988   \n",
              "std       24.319017    5.678870    0.174055    3.440447    50.083624   \n",
              "min        1.850000    0.000000    0.200000    0.000000     0.000000   \n",
              "25%        2.370000    0.210000    0.200000    0.042000     0.000000   \n",
              "50%        3.890000    0.875000    0.200000    0.175000     0.405000   \n",
              "75%       55.570000    2.480000    0.600000    1.488000     4.160000   \n",
              "max       59.850000   85.000000    0.600000   51.000000  1264.630000   \n",
              "\n",
              "          Score_B      Risk_B        TOTAL     numbers   Score_B.1  ...  \\\n",
              "count  776.000000  776.000000   776.000000  776.000000  776.000000  ...   \n",
              "mean     0.313144    6.334008    13.218481    5.067655    0.223711  ...   \n",
              "std      0.169804   30.072845    51.312829    0.264449    0.080352  ...   \n",
              "min      0.200000    0.000000     0.000000    5.000000    0.200000  ...   \n",
              "25%      0.200000    0.000000     0.537500    5.000000    0.200000  ...   \n",
              "50%      0.200000    0.081000     1.370000    5.000000    0.200000  ...   \n",
              "75%      0.400000    1.840500     7.707500    5.000000    0.200000  ...   \n",
              "max      0.600000  758.778000  1268.910000    9.000000    0.600000  ...   \n",
              "\n",
              "           RiSk_E     History        Prob      Risk_F       Score  \\\n",
              "count  776.000000  776.000000  776.000000  776.000000  776.000000   \n",
              "mean     0.519072    0.104381    0.216753    0.053608    2.702577   \n",
              "std      0.290312    0.531031    0.067987    0.305835    0.858923   \n",
              "min      0.400000    0.000000    0.200000    0.000000    2.000000   \n",
              "25%      0.400000    0.000000    0.200000    0.000000    2.000000   \n",
              "50%      0.400000    0.000000    0.200000    0.000000    2.400000   \n",
              "75%      0.400000    0.000000    0.200000    0.000000    3.250000   \n",
              "max      2.400000    9.000000    0.600000    5.400000    5.200000   \n",
              "\n",
              "       Inherent_Risk  CONTROL_RISK  Detection_Risk  Audit_Risk        Risk  \n",
              "count     776.000000    776.000000           776.0  776.000000  776.000000  \n",
              "mean       17.680612      0.572680             0.5    7.168158    0.393041  \n",
              "std        54.740244      0.444581             0.0   38.667494    0.488741  \n",
              "min         1.400000      0.400000             0.5    0.280000    0.000000  \n",
              "25%         1.583500      0.400000             0.5    0.316700    0.000000  \n",
              "50%         2.214000      0.400000             0.5    0.555600    0.000000  \n",
              "75%        10.663500      0.400000             0.5    3.249900    1.000000  \n",
              "max       801.262000      5.800000             0.5  961.514400    1.000000  \n",
              "\n",
              "[8 rows x 26 columns]"
            ],
            "text/html": [
              "\n",
              "  <div id=\"df-3e153f94-7596-47da-95f7-ebba1cd2b79d\">\n",
              "    <div class=\"colab-df-container\">\n",
              "      <div>\n",
              "<style scoped>\n",
              "    .dataframe tbody tr th:only-of-type {\n",
              "        vertical-align: middle;\n",
              "    }\n",
              "\n",
              "    .dataframe tbody tr th {\n",
              "        vertical-align: top;\n",
              "    }\n",
              "\n",
              "    .dataframe thead th {\n",
              "        text-align: right;\n",
              "    }\n",
              "</style>\n",
              "<table border=\"1\" class=\"dataframe\">\n",
              "  <thead>\n",
              "    <tr style=\"text-align: right;\">\n",
              "      <th></th>\n",
              "      <th>Sector_score</th>\n",
              "      <th>PARA_A</th>\n",
              "      <th>Score_A</th>\n",
              "      <th>Risk_A</th>\n",
              "      <th>PARA_B</th>\n",
              "      <th>Score_B</th>\n",
              "      <th>Risk_B</th>\n",
              "      <th>TOTAL</th>\n",
              "      <th>numbers</th>\n",
              "      <th>Score_B.1</th>\n",
              "      <th>...</th>\n",
              "      <th>RiSk_E</th>\n",
              "      <th>History</th>\n",
              "      <th>Prob</th>\n",
              "      <th>Risk_F</th>\n",
              "      <th>Score</th>\n",
              "      <th>Inherent_Risk</th>\n",
              "      <th>CONTROL_RISK</th>\n",
              "      <th>Detection_Risk</th>\n",
              "      <th>Audit_Risk</th>\n",
              "      <th>Risk</th>\n",
              "    </tr>\n",
              "  </thead>\n",
              "  <tbody>\n",
              "    <tr>\n",
              "      <th>count</th>\n",
              "      <td>776.000000</td>\n",
              "      <td>776.000000</td>\n",
              "      <td>776.000000</td>\n",
              "      <td>776.000000</td>\n",
              "      <td>776.000000</td>\n",
              "      <td>776.000000</td>\n",
              "      <td>776.000000</td>\n",
              "      <td>776.000000</td>\n",
              "      <td>776.000000</td>\n",
              "      <td>776.000000</td>\n",
              "      <td>...</td>\n",
              "      <td>776.000000</td>\n",
              "      <td>776.000000</td>\n",
              "      <td>776.000000</td>\n",
              "      <td>776.000000</td>\n",
              "      <td>776.000000</td>\n",
              "      <td>776.000000</td>\n",
              "      <td>776.000000</td>\n",
              "      <td>776.0</td>\n",
              "      <td>776.000000</td>\n",
              "      <td>776.000000</td>\n",
              "    </tr>\n",
              "    <tr>\n",
              "      <th>mean</th>\n",
              "      <td>20.184536</td>\n",
              "      <td>2.450194</td>\n",
              "      <td>0.351289</td>\n",
              "      <td>1.351029</td>\n",
              "      <td>10.799988</td>\n",
              "      <td>0.313144</td>\n",
              "      <td>6.334008</td>\n",
              "      <td>13.218481</td>\n",
              "      <td>5.067655</td>\n",
              "      <td>0.223711</td>\n",
              "      <td>...</td>\n",
              "      <td>0.519072</td>\n",
              "      <td>0.104381</td>\n",
              "      <td>0.216753</td>\n",
              "      <td>0.053608</td>\n",
              "      <td>2.702577</td>\n",
              "      <td>17.680612</td>\n",
              "      <td>0.572680</td>\n",
              "      <td>0.5</td>\n",
              "      <td>7.168158</td>\n",
              "      <td>0.393041</td>\n",
              "    </tr>\n",
              "    <tr>\n",
              "      <th>std</th>\n",
              "      <td>24.319017</td>\n",
              "      <td>5.678870</td>\n",
              "      <td>0.174055</td>\n",
              "      <td>3.440447</td>\n",
              "      <td>50.083624</td>\n",
              "      <td>0.169804</td>\n",
              "      <td>30.072845</td>\n",
              "      <td>51.312829</td>\n",
              "      <td>0.264449</td>\n",
              "      <td>0.080352</td>\n",
              "      <td>...</td>\n",
              "      <td>0.290312</td>\n",
              "      <td>0.531031</td>\n",
              "      <td>0.067987</td>\n",
              "      <td>0.305835</td>\n",
              "      <td>0.858923</td>\n",
              "      <td>54.740244</td>\n",
              "      <td>0.444581</td>\n",
              "      <td>0.0</td>\n",
              "      <td>38.667494</td>\n",
              "      <td>0.488741</td>\n",
              "    </tr>\n",
              "    <tr>\n",
              "      <th>min</th>\n",
              "      <td>1.850000</td>\n",
              "      <td>0.000000</td>\n",
              "      <td>0.200000</td>\n",
              "      <td>0.000000</td>\n",
              "      <td>0.000000</td>\n",
              "      <td>0.200000</td>\n",
              "      <td>0.000000</td>\n",
              "      <td>0.000000</td>\n",
              "      <td>5.000000</td>\n",
              "      <td>0.200000</td>\n",
              "      <td>...</td>\n",
              "      <td>0.400000</td>\n",
              "      <td>0.000000</td>\n",
              "      <td>0.200000</td>\n",
              "      <td>0.000000</td>\n",
              "      <td>2.000000</td>\n",
              "      <td>1.400000</td>\n",
              "      <td>0.400000</td>\n",
              "      <td>0.5</td>\n",
              "      <td>0.280000</td>\n",
              "      <td>0.000000</td>\n",
              "    </tr>\n",
              "    <tr>\n",
              "      <th>25%</th>\n",
              "      <td>2.370000</td>\n",
              "      <td>0.210000</td>\n",
              "      <td>0.200000</td>\n",
              "      <td>0.042000</td>\n",
              "      <td>0.000000</td>\n",
              "      <td>0.200000</td>\n",
              "      <td>0.000000</td>\n",
              "      <td>0.537500</td>\n",
              "      <td>5.000000</td>\n",
              "      <td>0.200000</td>\n",
              "      <td>...</td>\n",
              "      <td>0.400000</td>\n",
              "      <td>0.000000</td>\n",
              "      <td>0.200000</td>\n",
              "      <td>0.000000</td>\n",
              "      <td>2.000000</td>\n",
              "      <td>1.583500</td>\n",
              "      <td>0.400000</td>\n",
              "      <td>0.5</td>\n",
              "      <td>0.316700</td>\n",
              "      <td>0.000000</td>\n",
              "    </tr>\n",
              "    <tr>\n",
              "      <th>50%</th>\n",
              "      <td>3.890000</td>\n",
              "      <td>0.875000</td>\n",
              "      <td>0.200000</td>\n",
              "      <td>0.175000</td>\n",
              "      <td>0.405000</td>\n",
              "      <td>0.200000</td>\n",
              "      <td>0.081000</td>\n",
              "      <td>1.370000</td>\n",
              "      <td>5.000000</td>\n",
              "      <td>0.200000</td>\n",
              "      <td>...</td>\n",
              "      <td>0.400000</td>\n",
              "      <td>0.000000</td>\n",
              "      <td>0.200000</td>\n",
              "      <td>0.000000</td>\n",
              "      <td>2.400000</td>\n",
              "      <td>2.214000</td>\n",
              "      <td>0.400000</td>\n",
              "      <td>0.5</td>\n",
              "      <td>0.555600</td>\n",
              "      <td>0.000000</td>\n",
              "    </tr>\n",
              "    <tr>\n",
              "      <th>75%</th>\n",
              "      <td>55.570000</td>\n",
              "      <td>2.480000</td>\n",
              "      <td>0.600000</td>\n",
              "      <td>1.488000</td>\n",
              "      <td>4.160000</td>\n",
              "      <td>0.400000</td>\n",
              "      <td>1.840500</td>\n",
              "      <td>7.707500</td>\n",
              "      <td>5.000000</td>\n",
              "      <td>0.200000</td>\n",
              "      <td>...</td>\n",
              "      <td>0.400000</td>\n",
              "      <td>0.000000</td>\n",
              "      <td>0.200000</td>\n",
              "      <td>0.000000</td>\n",
              "      <td>3.250000</td>\n",
              "      <td>10.663500</td>\n",
              "      <td>0.400000</td>\n",
              "      <td>0.5</td>\n",
              "      <td>3.249900</td>\n",
              "      <td>1.000000</td>\n",
              "    </tr>\n",
              "    <tr>\n",
              "      <th>max</th>\n",
              "      <td>59.850000</td>\n",
              "      <td>85.000000</td>\n",
              "      <td>0.600000</td>\n",
              "      <td>51.000000</td>\n",
              "      <td>1264.630000</td>\n",
              "      <td>0.600000</td>\n",
              "      <td>758.778000</td>\n",
              "      <td>1268.910000</td>\n",
              "      <td>9.000000</td>\n",
              "      <td>0.600000</td>\n",
              "      <td>...</td>\n",
              "      <td>2.400000</td>\n",
              "      <td>9.000000</td>\n",
              "      <td>0.600000</td>\n",
              "      <td>5.400000</td>\n",
              "      <td>5.200000</td>\n",
              "      <td>801.262000</td>\n",
              "      <td>5.800000</td>\n",
              "      <td>0.5</td>\n",
              "      <td>961.514400</td>\n",
              "      <td>1.000000</td>\n",
              "    </tr>\n",
              "  </tbody>\n",
              "</table>\n",
              "<p>8 rows × 26 columns</p>\n",
              "</div>\n",
              "      <button class=\"colab-df-convert\" onclick=\"convertToInteractive('df-3e153f94-7596-47da-95f7-ebba1cd2b79d')\"\n",
              "              title=\"Convert this dataframe to an interactive table.\"\n",
              "              style=\"display:none;\">\n",
              "        \n",
              "  <svg xmlns=\"http://www.w3.org/2000/svg\" height=\"24px\"viewBox=\"0 0 24 24\"\n",
              "       width=\"24px\">\n",
              "    <path d=\"M0 0h24v24H0V0z\" fill=\"none\"/>\n",
              "    <path d=\"M18.56 5.44l.94 2.06.94-2.06 2.06-.94-2.06-.94-.94-2.06-.94 2.06-2.06.94zm-11 1L8.5 8.5l.94-2.06 2.06-.94-2.06-.94L8.5 2.5l-.94 2.06-2.06.94zm10 10l.94 2.06.94-2.06 2.06-.94-2.06-.94-.94-2.06-.94 2.06-2.06.94z\"/><path d=\"M17.41 7.96l-1.37-1.37c-.4-.4-.92-.59-1.43-.59-.52 0-1.04.2-1.43.59L10.3 9.45l-7.72 7.72c-.78.78-.78 2.05 0 2.83L4 21.41c.39.39.9.59 1.41.59.51 0 1.02-.2 1.41-.59l7.78-7.78 2.81-2.81c.8-.78.8-2.07 0-2.86zM5.41 20L4 18.59l7.72-7.72 1.47 1.35L5.41 20z\"/>\n",
              "  </svg>\n",
              "      </button>\n",
              "      \n",
              "  <style>\n",
              "    .colab-df-container {\n",
              "      display:flex;\n",
              "      flex-wrap:wrap;\n",
              "      gap: 12px;\n",
              "    }\n",
              "\n",
              "    .colab-df-convert {\n",
              "      background-color: #E8F0FE;\n",
              "      border: none;\n",
              "      border-radius: 50%;\n",
              "      cursor: pointer;\n",
              "      display: none;\n",
              "      fill: #1967D2;\n",
              "      height: 32px;\n",
              "      padding: 0 0 0 0;\n",
              "      width: 32px;\n",
              "    }\n",
              "\n",
              "    .colab-df-convert:hover {\n",
              "      background-color: #E2EBFA;\n",
              "      box-shadow: 0px 1px 2px rgba(60, 64, 67, 0.3), 0px 1px 3px 1px rgba(60, 64, 67, 0.15);\n",
              "      fill: #174EA6;\n",
              "    }\n",
              "\n",
              "    [theme=dark] .colab-df-convert {\n",
              "      background-color: #3B4455;\n",
              "      fill: #D2E3FC;\n",
              "    }\n",
              "\n",
              "    [theme=dark] .colab-df-convert:hover {\n",
              "      background-color: #434B5C;\n",
              "      box-shadow: 0px 1px 3px 1px rgba(0, 0, 0, 0.15);\n",
              "      filter: drop-shadow(0px 1px 2px rgba(0, 0, 0, 0.3));\n",
              "      fill: #FFFFFF;\n",
              "    }\n",
              "  </style>\n",
              "\n",
              "      <script>\n",
              "        const buttonEl =\n",
              "          document.querySelector('#df-3e153f94-7596-47da-95f7-ebba1cd2b79d button.colab-df-convert');\n",
              "        buttonEl.style.display =\n",
              "          google.colab.kernel.accessAllowed ? 'block' : 'none';\n",
              "\n",
              "        async function convertToInteractive(key) {\n",
              "          const element = document.querySelector('#df-3e153f94-7596-47da-95f7-ebba1cd2b79d');\n",
              "          const dataTable =\n",
              "            await google.colab.kernel.invokeFunction('convertToInteractive',\n",
              "                                                     [key], {});\n",
              "          if (!dataTable) return;\n",
              "\n",
              "          const docLinkHtml = 'Like what you see? Visit the ' +\n",
              "            '<a target=\"_blank\" href=https://colab.research.google.com/notebooks/data_table.ipynb>data table notebook</a>'\n",
              "            + ' to learn more about interactive tables.';\n",
              "          element.innerHTML = '';\n",
              "          dataTable['output_type'] = 'display_data';\n",
              "          await google.colab.output.renderOutput(dataTable, element);\n",
              "          const docLink = document.createElement('div');\n",
              "          docLink.innerHTML = docLinkHtml;\n",
              "          element.appendChild(docLink);\n",
              "        }\n",
              "      </script>\n",
              "    </div>\n",
              "  </div>\n",
              "  "
            ]
          },
          "metadata": {},
          "execution_count": 9
        }
      ]
    },
    {
      "cell_type": "code",
      "source": [
        "sns.countplot(df['Risk'])\n",
        "plt.show()"
      ],
      "metadata": {
        "colab": {
          "base_uri": "https://localhost:8080/",
          "height": 430
        },
        "id": "z9ljFuKuBsWO",
        "outputId": "dd5a185d-a2b1-4814-bb86-1d363bb094f3"
      },
      "execution_count": null,
      "outputs": [
        {
          "output_type": "display_data",
          "data": {
            "text/plain": [
              "<Figure size 640x480 with 1 Axes>"
            ],
            "image/png": "[encoded data removed]"
          },
          "metadata": {}
        }
      ]
    },
    {
      "cell_type": "code",
      "source": [
        "sns.boxplot(x='Risk',y='Money_Value',data=df)\n",
        "plt.show()"
      ],
      "metadata": {
        "colab": {
          "base_uri": "https://localhost:8080/",
          "height": 449
        },
        "id": "srHZeHp0B5o-",
        "outputId": "5b6b82e9-c0d7-4a7b-8288-eb56e78b6831"
      },
      "execution_count": null,
      "outputs": [
        {
          "output_type": "display_data",
          "data": {
            "text/plain": [
              "<Figure size 640x480 with 1 Axes>"
            ],
            "image/png": "[encoded data removed]"
          },
          "metadata": {}
        }
      ]
    },
    {
      "cell_type": "code",
      "source": [
        "sns.scatterplot(x='Money_Value',y='Score_MV',hue='Risk',data=df)\n",
        "plt.show()"
      ],
      "metadata": {
        "colab": {
          "base_uri": "https://localhost:8080/",
          "height": 450
        },
        "id": "ZnJcF9gHCUnM",
        "outputId": "8346140c-b9b3-4a91-bc17-2646fd17459c"
      },
      "execution_count": null,
      "outputs": [
        {
          "output_type": "display_data",
          "data": {
            "text/plain": [
              "<Figure size 640x480 with 1 Axes>"
            ],
            "image/png": "[encoded data removed]"
          },
          "metadata": {}
        }
      ]
    },
    {
      "cell_type": "code",
      "source": [
        "sns.pairplot(df)"
      ],
      "metadata": {
        "id": "lJ-qMpo0DkRo"
      },
      "execution_count": null,
      "outputs": []
    },
    {
      "cell_type": "code",
      "source": [
        "x_train,x_test,y_train,y_test=train_test_split( x,y,test_size=0.3,random_state=72)"
      ],
      "metadata": {
        "id": "PpZgsxKWEQmc"
      },
      "execution_count": null,
      "outputs": []
    },
    {
      "cell_type": "code",
      "source": [
        "len(x_trian),len(x_test)"
      ],
      "metadata": {
        "id": "cNb0Smk6EZ49"
      },
      "execution_count": null,
      "outputs": []
    },
    {
      "cell_type": "code",
      "source": [
        "len(y_trian),len(y_test)"
      ],
      "metadata": {
        "id": "vGGcI4tlEbCq"
      },
      "execution_count": null,
      "outputs": []
    },
    {
      "cell_type": "code",
      "source": [
        "logi=LogisticRegression()"
      ],
      "metadata": {
        "id": "72q6AAkoEe65"
      },
      "execution_count": null,
      "outputs": []
    },
    {
      "cell_type": "code",
      "source": [
        "logi.fit(x_train,y_train)"
      ],
      "metadata": {
        "id": "xA8aQYh7E11S"
      },
      "execution_count": null,
      "outputs": []
    }
  ]
}